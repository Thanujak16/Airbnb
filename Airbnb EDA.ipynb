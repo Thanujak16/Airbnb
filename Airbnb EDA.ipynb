{
 "cells": [
  {
   "cell_type": "code",
   "execution_count": 2,
   "id": "f3d2a405",
   "metadata": {},
   "outputs": [],
   "source": [
    "import pandas as pd\n",
    "import numpy as np\n",
    "import matplotlib.pyplot as plt\n",
    "import seaborn as sns\n",
    "import warnings\n",
    "warnings.filterwarnings(\"ignore\")"
   ]
  },
  {
   "cell_type": "markdown",
   "id": "0ed8dd2f",
   "metadata": {},
   "source": [
    "### Data import"
   ]
  },
  {
   "cell_type": "code",
   "execution_count": 3,
   "id": "36b2bb9d",
   "metadata": {},
   "outputs": [
    {
     "data": {
      "text/html": [
       "<div>\n",
       "<style scoped>\n",
       "    .dataframe tbody tr th:only-of-type {\n",
       "        vertical-align: middle;\n",
       "    }\n",
       "\n",
       "    .dataframe tbody tr th {\n",
       "        vertical-align: top;\n",
       "    }\n",
       "\n",
       "    .dataframe thead th {\n",
       "        text-align: right;\n",
       "    }\n",
       "</style>\n",
       "<table border=\"1\" class=\"dataframe\">\n",
       "  <thead>\n",
       "    <tr style=\"text-align: right;\">\n",
       "      <th></th>\n",
       "      <th>id</th>\n",
       "      <th>Name</th>\n",
       "      <th>Description</th>\n",
       "      <th>Building_type</th>\n",
       "      <th>Property_type</th>\n",
       "      <th>Amenities</th>\n",
       "      <th>host_id</th>\n",
       "      <th>Host_name</th>\n",
       "      <th>Host_identity_verified</th>\n",
       "      <th>Host_Experience</th>\n",
       "      <th>...</th>\n",
       "      <th>Food_type</th>\n",
       "      <th>Minimum_nights</th>\n",
       "      <th>Reviews</th>\n",
       "      <th>Reviews_per_month</th>\n",
       "      <th>Review_rate_number</th>\n",
       "      <th>House_rules</th>\n",
       "      <th>Host_Revenue</th>\n",
       "      <th>Platform_Revenue</th>\n",
       "      <th>Total_Revenue</th>\n",
       "      <th>Year</th>\n",
       "    </tr>\n",
       "  </thead>\n",
       "  <tbody>\n",
       "    <tr>\n",
       "      <th>0</th>\n",
       "      <td>4432170</td>\n",
       "      <td>The Sunset</td>\n",
       "      <td>Sunny, quiet, legal homelike suite-Pk Slope South</td>\n",
       "      <td>Entire house</td>\n",
       "      <td>Loft</td>\n",
       "      <td>['Wifi' 'Hot water bath' 'Fully equipped kitch...</td>\n",
       "      <td>4635434</td>\n",
       "      <td>Marianne</td>\n",
       "      <td>confirmed</td>\n",
       "      <td>Moderately Experienced</td>\n",
       "      <td>...</td>\n",
       "      <td>['Cereals' 'Fruits' 'Vegetables' 'Bread and Ja...</td>\n",
       "      <td>335</td>\n",
       "      <td>It would be my pleasure to host them again any...</td>\n",
       "      <td>5.82</td>\n",
       "      <td>2</td>\n",
       "      <td>Also friends traveling together could sleep in...</td>\n",
       "      <td>29.2443</td>\n",
       "      <td>3.1428</td>\n",
       "      <td>43.3377</td>\n",
       "      <td>2020</td>\n",
       "    </tr>\n",
       "    <tr>\n",
       "      <th>1</th>\n",
       "      <td>5917623</td>\n",
       "      <td>The Coral Reef Estate</td>\n",
       "      <td>Columbus Circle Luxury Bldg - Private Room&amp;Bath</td>\n",
       "      <td>Private room</td>\n",
       "      <td>Bed &amp; Breakfast</td>\n",
       "      <td>['Wifi' 'Hot water bath' 'Fully equipped kitch...</td>\n",
       "      <td>3745972</td>\n",
       "      <td>Jennifer</td>\n",
       "      <td>not confirmed</td>\n",
       "      <td>Inexperienced</td>\n",
       "      <td>...</td>\n",
       "      <td>['Cereals' 'Fruits' 'Vegetables' 'Juices' 'Yog...</td>\n",
       "      <td>123</td>\n",
       "      <td>They were easy to communicate with and left th...</td>\n",
       "      <td>8.54</td>\n",
       "      <td>8</td>\n",
       "      <td>No smoking</td>\n",
       "      <td>22.7300</td>\n",
       "      <td>18.4464</td>\n",
       "      <td>49.0654</td>\n",
       "      <td>2017</td>\n",
       "    </tr>\n",
       "    <tr>\n",
       "      <th>2</th>\n",
       "      <td>9954755</td>\n",
       "      <td>Sandy Beachfront Oasis</td>\n",
       "      <td>Historic House Boerum Hill, BK, NYC</td>\n",
       "      <td>Private room</td>\n",
       "      <td>Cabin</td>\n",
       "      <td>['Wifi' 'Hot water bath' 'Fully equipped kitch...</td>\n",
       "      <td>5769667</td>\n",
       "      <td>Yukako</td>\n",
       "      <td>confirmed</td>\n",
       "      <td>Inexperienced</td>\n",
       "      <td>...</td>\n",
       "      <td>['Cereals' 'Fruits' 'Vegetables' 'Juices' 'OJ']</td>\n",
       "      <td>91</td>\n",
       "      <td>When we first stumbled upon this flat on AirBn...</td>\n",
       "      <td>7.17</td>\n",
       "      <td>4</td>\n",
       "      <td>No smoking</td>\n",
       "      <td>35.6034</td>\n",
       "      <td>7.7436</td>\n",
       "      <td>103.4878</td>\n",
       "      <td>2011</td>\n",
       "    </tr>\n",
       "    <tr>\n",
       "      <th>3</th>\n",
       "      <td>7981565</td>\n",
       "      <td>The Easy in Brooklyn</td>\n",
       "      <td>Landmark 2 Bedroom West Village NYC</td>\n",
       "      <td>Shared room</td>\n",
       "      <td>Condominium</td>\n",
       "      <td>['Wifi' 'Hot water bath' 'Fully equipped kitch...</td>\n",
       "      <td>9182395</td>\n",
       "      <td>Kazuya</td>\n",
       "      <td>confirmed</td>\n",
       "      <td>Experienced</td>\n",
       "      <td>...</td>\n",
       "      <td>['Cereals' 'Fruits' 'Vegetables' 'Eggs' 'Muffi...</td>\n",
       "      <td>342</td>\n",
       "      <td>It would be my pleasure to host them again any...</td>\n",
       "      <td>9.99</td>\n",
       "      <td>3</td>\n",
       "      <td>I am allergic to cigarettes, so no smoking pl...</td>\n",
       "      <td>33.2344</td>\n",
       "      <td>8.0919</td>\n",
       "      <td>84.2498</td>\n",
       "      <td>2012</td>\n",
       "    </tr>\n",
       "    <tr>\n",
       "      <th>4</th>\n",
       "      <td>7864556</td>\n",
       "      <td>Pennsylvania Avenue Best Kept Secret</td>\n",
       "      <td>Room in Chic Modern High Line Luxury- New!</td>\n",
       "      <td>Apartment</td>\n",
       "      <td>Cabin</td>\n",
       "      <td>['Wifi' 'Hot water bath' 'Fully equipped kitch...</td>\n",
       "      <td>1239199</td>\n",
       "      <td>Wright</td>\n",
       "      <td>not confirmed</td>\n",
       "      <td>Experienced</td>\n",
       "      <td>...</td>\n",
       "      <td>['Cereals' 'Fruits' 'Vegetables' 'Eggs' 'Bread...</td>\n",
       "      <td>319</td>\n",
       "      <td>When we first stumbled upon this flat on AirBn...</td>\n",
       "      <td>1.69</td>\n",
       "      <td>8</td>\n",
       "      <td>Also friends traveling together could sleep in...</td>\n",
       "      <td>22.4420</td>\n",
       "      <td>3.6504</td>\n",
       "      <td>83.6948</td>\n",
       "      <td>2015</td>\n",
       "    </tr>\n",
       "    <tr>\n",
       "      <th>...</th>\n",
       "      <td>...</td>\n",
       "      <td>...</td>\n",
       "      <td>...</td>\n",
       "      <td>...</td>\n",
       "      <td>...</td>\n",
       "      <td>...</td>\n",
       "      <td>...</td>\n",
       "      <td>...</td>\n",
       "      <td>...</td>\n",
       "      <td>...</td>\n",
       "      <td>...</td>\n",
       "      <td>...</td>\n",
       "      <td>...</td>\n",
       "      <td>...</td>\n",
       "      <td>...</td>\n",
       "      <td>...</td>\n",
       "      <td>...</td>\n",
       "      <td>...</td>\n",
       "      <td>...</td>\n",
       "      <td>...</td>\n",
       "      <td>...</td>\n",
       "    </tr>\n",
       "    <tr>\n",
       "      <th>495</th>\n",
       "      <td>2984642</td>\n",
       "      <td>The Artist’s Studio</td>\n",
       "      <td>Huge Designer Room | Lower East Side /East Vil...</td>\n",
       "      <td>Apartment</td>\n",
       "      <td>Condominium</td>\n",
       "      <td>['Wifi' 'Hot water bath' 'Fully equipped kitch...</td>\n",
       "      <td>4904912</td>\n",
       "      <td>Lloyd</td>\n",
       "      <td>not confirmed</td>\n",
       "      <td>Experienced</td>\n",
       "      <td>...</td>\n",
       "      <td>['Cereals' 'Fruits' 'Vegetables' 'Bread and Ja...</td>\n",
       "      <td>416</td>\n",
       "      <td>When we first stumbled upon this flat on AirBn...</td>\n",
       "      <td>5.55</td>\n",
       "      <td>10</td>\n",
       "      <td>Also friends traveling together could sleep in...</td>\n",
       "      <td>23.9920</td>\n",
       "      <td>14.9850</td>\n",
       "      <td>85.0240</td>\n",
       "      <td>2015</td>\n",
       "    </tr>\n",
       "    <tr>\n",
       "      <th>496</th>\n",
       "      <td>1779699</td>\n",
       "      <td>The Ruby Garden</td>\n",
       "      <td>Gigantic Private Brooklyn Loft!</td>\n",
       "      <td>Entire house</td>\n",
       "      <td>Villa</td>\n",
       "      <td>['Wifi' 'Hot water bath' 'Fully equipped kitch...</td>\n",
       "      <td>6747167</td>\n",
       "      <td>Matilda</td>\n",
       "      <td>not confirmed</td>\n",
       "      <td>Moderately Experienced</td>\n",
       "      <td>...</td>\n",
       "      <td>['Cereals' 'Fruits' 'Vegetables' 'Yogurt' 'OJ']</td>\n",
       "      <td>138</td>\n",
       "      <td>When we first stumbled upon this flat on AirBn...</td>\n",
       "      <td>6.64</td>\n",
       "      <td>8</td>\n",
       "      <td>I am allergic to cigarettes, so no smoking pl...</td>\n",
       "      <td>23.6770</td>\n",
       "      <td>14.3424</td>\n",
       "      <td>111.5142</td>\n",
       "      <td>2013</td>\n",
       "    </tr>\n",
       "    <tr>\n",
       "      <th>497</th>\n",
       "      <td>5400686</td>\n",
       "      <td>The Tired Traveler Inn</td>\n",
       "      <td>The Notorious B.N.B. { The Wallace }</td>\n",
       "      <td>Private room</td>\n",
       "      <td>Cabin</td>\n",
       "      <td>['Wifi' 'Hot water bath' 'Fully equipped kitch...</td>\n",
       "      <td>2351253</td>\n",
       "      <td>Karen Jennifer &amp; Jan</td>\n",
       "      <td>not confirmed</td>\n",
       "      <td>Experienced</td>\n",
       "      <td>...</td>\n",
       "      <td>['Cereals' 'Fruits' 'Vegetables' 'OJ' 'Juices']</td>\n",
       "      <td>75</td>\n",
       "      <td>When we first stumbled upon this flat on AirBn...</td>\n",
       "      <td>8.89</td>\n",
       "      <td>2</td>\n",
       "      <td>Pet friendly but please confirm with me if the...</td>\n",
       "      <td>21.7290</td>\n",
       "      <td>4.8006</td>\n",
       "      <td>56.1392</td>\n",
       "      <td>2015</td>\n",
       "    </tr>\n",
       "    <tr>\n",
       "      <th>498</th>\n",
       "      <td>4474721</td>\n",
       "      <td>The Tired Traveler Inn</td>\n",
       "      <td>17 Flr. Manhattan Views, Nr. Subway</td>\n",
       "      <td>Entire house</td>\n",
       "      <td>Cabin</td>\n",
       "      <td>['Wifi' 'Hot water bath' 'Fully equipped kitch...</td>\n",
       "      <td>8391600</td>\n",
       "      <td>Liza</td>\n",
       "      <td>confirmed</td>\n",
       "      <td>Moderately Experienced</td>\n",
       "      <td>...</td>\n",
       "      <td>['Cereals' 'Fruits' 'Vegetables' 'Juices' 'Yog...</td>\n",
       "      <td>472</td>\n",
       "      <td>It would be my pleasure to host them again any...</td>\n",
       "      <td>9.70</td>\n",
       "      <td>10</td>\n",
       "      <td>Also friends traveling together could sleep in...</td>\n",
       "      <td>38.2388</td>\n",
       "      <td>26.1900</td>\n",
       "      <td>119.4124</td>\n",
       "      <td>2009</td>\n",
       "    </tr>\n",
       "    <tr>\n",
       "      <th>499</th>\n",
       "      <td>5407459</td>\n",
       "      <td>Quinta Da Santana</td>\n",
       "      <td>Your own Lovely West Village Studio</td>\n",
       "      <td>Apartment</td>\n",
       "      <td>Townhouse</td>\n",
       "      <td>['Wifi' 'Hot water bath' 'Fully equipped kitch...</td>\n",
       "      <td>5466369</td>\n",
       "      <td>Grant</td>\n",
       "      <td>confirmed</td>\n",
       "      <td>Inexperienced</td>\n",
       "      <td>...</td>\n",
       "      <td>['Cereals' 'Fruits' 'Vegetables' 'Milk' 'Bread...</td>\n",
       "      <td>323</td>\n",
       "      <td>They were easy to communicate with and left th...</td>\n",
       "      <td>4.46</td>\n",
       "      <td>2</td>\n",
       "      <td>I have a cute and quiet mixed chihuahua.</td>\n",
       "      <td>34.6548</td>\n",
       "      <td>2.4084</td>\n",
       "      <td>69.0986</td>\n",
       "      <td>2023</td>\n",
       "    </tr>\n",
       "  </tbody>\n",
       "</table>\n",
       "<p>500 rows × 36 columns</p>\n",
       "</div>"
      ],
      "text/plain": [
       "          id                                  Name  \\\n",
       "0    4432170                            The Sunset   \n",
       "1    5917623                 The Coral Reef Estate   \n",
       "2    9954755                Sandy Beachfront Oasis   \n",
       "3    7981565                  The Easy in Brooklyn   \n",
       "4    7864556  Pennsylvania Avenue Best Kept Secret   \n",
       "..       ...                                   ...   \n",
       "495  2984642                   The Artist’s Studio   \n",
       "496  1779699                       The Ruby Garden   \n",
       "497  5400686                The Tired Traveler Inn   \n",
       "498  4474721                The Tired Traveler Inn   \n",
       "499  5407459                     Quinta Da Santana   \n",
       "\n",
       "                                           Description Building_type  \\\n",
       "0    Sunny, quiet, legal homelike suite-Pk Slope South  Entire house   \n",
       "1      Columbus Circle Luxury Bldg - Private Room&Bath  Private room   \n",
       "2                  Historic House Boerum Hill, BK, NYC  Private room   \n",
       "3                  Landmark 2 Bedroom West Village NYC   Shared room   \n",
       "4           Room in Chic Modern High Line Luxury- New!     Apartment   \n",
       "..                                                 ...           ...   \n",
       "495  Huge Designer Room | Lower East Side /East Vil...     Apartment   \n",
       "496                    Gigantic Private Brooklyn Loft!  Entire house   \n",
       "497               The Notorious B.N.B. { The Wallace }  Private room   \n",
       "498                17 Flr. Manhattan Views, Nr. Subway  Entire house   \n",
       "499                Your own Lovely West Village Studio     Apartment   \n",
       "\n",
       "       Property_type                                          Amenities  \\\n",
       "0               Loft  ['Wifi' 'Hot water bath' 'Fully equipped kitch...   \n",
       "1    Bed & Breakfast  ['Wifi' 'Hot water bath' 'Fully equipped kitch...   \n",
       "2              Cabin  ['Wifi' 'Hot water bath' 'Fully equipped kitch...   \n",
       "3        Condominium  ['Wifi' 'Hot water bath' 'Fully equipped kitch...   \n",
       "4              Cabin  ['Wifi' 'Hot water bath' 'Fully equipped kitch...   \n",
       "..               ...                                                ...   \n",
       "495      Condominium  ['Wifi' 'Hot water bath' 'Fully equipped kitch...   \n",
       "496            Villa  ['Wifi' 'Hot water bath' 'Fully equipped kitch...   \n",
       "497            Cabin  ['Wifi' 'Hot water bath' 'Fully equipped kitch...   \n",
       "498            Cabin  ['Wifi' 'Hot water bath' 'Fully equipped kitch...   \n",
       "499        Townhouse  ['Wifi' 'Hot water bath' 'Fully equipped kitch...   \n",
       "\n",
       "     host_id             Host_name Host_identity_verified  \\\n",
       "0    4635434              Marianne              confirmed   \n",
       "1    3745972              Jennifer          not confirmed   \n",
       "2    5769667                Yukako              confirmed   \n",
       "3    9182395                Kazuya              confirmed   \n",
       "4    1239199                Wright          not confirmed   \n",
       "..       ...                   ...                    ...   \n",
       "495  4904912                 Lloyd          not confirmed   \n",
       "496  6747167               Matilda          not confirmed   \n",
       "497  2351253  Karen Jennifer & Jan          not confirmed   \n",
       "498  8391600                  Liza              confirmed   \n",
       "499  5466369                 Grant              confirmed   \n",
       "\n",
       "            Host_Experience  ...  \\\n",
       "0    Moderately Experienced  ...   \n",
       "1             Inexperienced  ...   \n",
       "2             Inexperienced  ...   \n",
       "3               Experienced  ...   \n",
       "4               Experienced  ...   \n",
       "..                      ...  ...   \n",
       "495             Experienced  ...   \n",
       "496  Moderately Experienced  ...   \n",
       "497             Experienced  ...   \n",
       "498  Moderately Experienced  ...   \n",
       "499           Inexperienced  ...   \n",
       "\n",
       "                                             Food_type Minimum_nights  \\\n",
       "0    ['Cereals' 'Fruits' 'Vegetables' 'Bread and Ja...            335   \n",
       "1    ['Cereals' 'Fruits' 'Vegetables' 'Juices' 'Yog...            123   \n",
       "2      ['Cereals' 'Fruits' 'Vegetables' 'Juices' 'OJ']             91   \n",
       "3    ['Cereals' 'Fruits' 'Vegetables' 'Eggs' 'Muffi...            342   \n",
       "4    ['Cereals' 'Fruits' 'Vegetables' 'Eggs' 'Bread...            319   \n",
       "..                                                 ...            ...   \n",
       "495  ['Cereals' 'Fruits' 'Vegetables' 'Bread and Ja...            416   \n",
       "496    ['Cereals' 'Fruits' 'Vegetables' 'Yogurt' 'OJ']            138   \n",
       "497    ['Cereals' 'Fruits' 'Vegetables' 'OJ' 'Juices']             75   \n",
       "498  ['Cereals' 'Fruits' 'Vegetables' 'Juices' 'Yog...            472   \n",
       "499  ['Cereals' 'Fruits' 'Vegetables' 'Milk' 'Bread...            323   \n",
       "\n",
       "                                               Reviews  Reviews_per_month  \\\n",
       "0    It would be my pleasure to host them again any...               5.82   \n",
       "1    They were easy to communicate with and left th...               8.54   \n",
       "2    When we first stumbled upon this flat on AirBn...               7.17   \n",
       "3    It would be my pleasure to host them again any...               9.99   \n",
       "4    When we first stumbled upon this flat on AirBn...               1.69   \n",
       "..                                                 ...                ...   \n",
       "495  When we first stumbled upon this flat on AirBn...               5.55   \n",
       "496  When we first stumbled upon this flat on AirBn...               6.64   \n",
       "497  When we first stumbled upon this flat on AirBn...               8.89   \n",
       "498  It would be my pleasure to host them again any...               9.70   \n",
       "499  They were easy to communicate with and left th...               4.46   \n",
       "\n",
       "    Review_rate_number                                        House_rules  \\\n",
       "0                    2  Also friends traveling together could sleep in...   \n",
       "1                    8                                         No smoking   \n",
       "2                    4                                         No smoking   \n",
       "3                    3   I am allergic to cigarettes, so no smoking pl...   \n",
       "4                    8  Also friends traveling together could sleep in...   \n",
       "..                 ...                                                ...   \n",
       "495                 10  Also friends traveling together could sleep in...   \n",
       "496                  8   I am allergic to cigarettes, so no smoking pl...   \n",
       "497                  2  Pet friendly but please confirm with me if the...   \n",
       "498                 10  Also friends traveling together could sleep in...   \n",
       "499                  2           I have a cute and quiet mixed chihuahua.   \n",
       "\n",
       "    Host_Revenue Platform_Revenue Total_Revenue  Year  \n",
       "0        29.2443           3.1428       43.3377  2020  \n",
       "1        22.7300          18.4464       49.0654  2017  \n",
       "2        35.6034           7.7436      103.4878  2011  \n",
       "3        33.2344           8.0919       84.2498  2012  \n",
       "4        22.4420           3.6504       83.6948  2015  \n",
       "..           ...              ...           ...   ...  \n",
       "495      23.9920          14.9850       85.0240  2015  \n",
       "496      23.6770          14.3424      111.5142  2013  \n",
       "497      21.7290           4.8006       56.1392  2015  \n",
       "498      38.2388          26.1900      119.4124  2009  \n",
       "499      34.6548           2.4084       69.0986  2023  \n",
       "\n",
       "[500 rows x 36 columns]"
      ]
     },
     "execution_count": 3,
     "metadata": {},
     "output_type": "execute_result"
    }
   ],
   "source": [
    "data=pd.read_csv(\"AirbnbFeeder.csv\")\n",
    "data"
   ]
  },
  {
   "cell_type": "markdown",
   "id": "fee574eb",
   "metadata": {},
   "source": [
    "### Data Pre-processing"
   ]
  },
  {
   "cell_type": "code",
   "execution_count": 4,
   "id": "dff4b341",
   "metadata": {},
   "outputs": [
    {
     "name": "stdout",
     "output_type": "stream",
     "text": [
      "<class 'pandas.core.frame.DataFrame'>\n",
      "RangeIndex: 500 entries, 0 to 499\n",
      "Data columns (total 36 columns):\n",
      " #   Column                  Non-Null Count  Dtype  \n",
      "---  ------                  --------------  -----  \n",
      " 0   id                      500 non-null    int64  \n",
      " 1   Name                    488 non-null    object \n",
      " 2   Description             500 non-null    object \n",
      " 3   Building_type           500 non-null    object \n",
      " 4   Property_type           500 non-null    object \n",
      " 5   Amenities               500 non-null    object \n",
      " 6   host_id                 500 non-null    int64  \n",
      " 7   Host_name               500 non-null    object \n",
      " 8   Host_identity_verified  500 non-null    object \n",
      " 9   Host_Experience         500 non-null    object \n",
      " 10  Host_fee                500 non-null    float64\n",
      " 11  Neighbourhood           500 non-null    object \n",
      " 12  State                   500 non-null    object \n",
      " 13  Zipcode                 500 non-null    int64  \n",
      " 14  Currency                500 non-null    object \n",
      " 15  Season                  500 non-null    object \n",
      " 16  Instant_bookable        500 non-null    object \n",
      " 17  Construction_year       500 non-null    object \n",
      " 18  Accommodation_year      500 non-null    object \n",
      " 19  Commission              500 non-null    float64\n",
      " 20  Booking_total           500 non-null    float64\n",
      " 21  Status                  500 non-null    object \n",
      " 22  Bookings                500 non-null    int64  \n",
      " 23  Service_fee             500 non-null    float64\n",
      " 24  Cancellation_Policy     500 non-null    object \n",
      " 25  Food_cost               500 non-null    float64\n",
      " 26  Food_type               500 non-null    object \n",
      " 27  Minimum_nights          500 non-null    int64  \n",
      " 28  Reviews                 500 non-null    object \n",
      " 29  Reviews_per_month       500 non-null    float64\n",
      " 30  Review_rate_number      500 non-null    int64  \n",
      " 31  House_rules             500 non-null    object \n",
      " 32  Host_Revenue            500 non-null    float64\n",
      " 33  Platform_Revenue        500 non-null    float64\n",
      " 34  Total_Revenue           500 non-null    float64\n",
      " 35  Year                    500 non-null    int64  \n",
      "dtypes: float64(9), int64(7), object(20)\n",
      "memory usage: 140.8+ KB\n"
     ]
    }
   ],
   "source": [
    "data.info()"
   ]
  },
  {
   "cell_type": "code",
   "execution_count": 5,
   "id": "62bf34b8",
   "metadata": {},
   "outputs": [
    {
     "data": {
      "text/plain": [
       "id                         0\n",
       "Name                      12\n",
       "Description                0\n",
       "Building_type              0\n",
       "Property_type              0\n",
       "Amenities                  0\n",
       "host_id                    0\n",
       "Host_name                  0\n",
       "Host_identity_verified     0\n",
       "Host_Experience            0\n",
       "Host_fee                   0\n",
       "Neighbourhood              0\n",
       "State                      0\n",
       "Zipcode                    0\n",
       "Currency                   0\n",
       "Season                     0\n",
       "Instant_bookable           0\n",
       "Construction_year          0\n",
       "Accommodation_year         0\n",
       "Commission                 0\n",
       "Booking_total              0\n",
       "Status                     0\n",
       "Bookings                   0\n",
       "Service_fee                0\n",
       "Cancellation_Policy        0\n",
       "Food_cost                  0\n",
       "Food_type                  0\n",
       "Minimum_nights             0\n",
       "Reviews                    0\n",
       "Reviews_per_month          0\n",
       "Review_rate_number         0\n",
       "House_rules                0\n",
       "Host_Revenue               0\n",
       "Platform_Revenue           0\n",
       "Total_Revenue              0\n",
       "Year                       0\n",
       "dtype: int64"
      ]
     },
     "execution_count": 5,
     "metadata": {},
     "output_type": "execute_result"
    }
   ],
   "source": [
    "#Is the dataset clean\n",
    "data.isnull().sum()"
   ]
  },
  {
   "cell_type": "code",
   "execution_count": 6,
   "id": "f2514bf7",
   "metadata": {},
   "outputs": [],
   "source": [
    "data.dropna(inplace=True)"
   ]
  },
  {
   "cell_type": "code",
   "execution_count": 7,
   "id": "b92621de",
   "metadata": {},
   "outputs": [
    {
     "data": {
      "text/plain": [
       "id                        0\n",
       "Name                      0\n",
       "Description               0\n",
       "Building_type             0\n",
       "Property_type             0\n",
       "Amenities                 0\n",
       "host_id                   0\n",
       "Host_name                 0\n",
       "Host_identity_verified    0\n",
       "Host_Experience           0\n",
       "Host_fee                  0\n",
       "Neighbourhood             0\n",
       "State                     0\n",
       "Zipcode                   0\n",
       "Currency                  0\n",
       "Season                    0\n",
       "Instant_bookable          0\n",
       "Construction_year         0\n",
       "Accommodation_year        0\n",
       "Commission                0\n",
       "Booking_total             0\n",
       "Status                    0\n",
       "Bookings                  0\n",
       "Service_fee               0\n",
       "Cancellation_Policy       0\n",
       "Food_cost                 0\n",
       "Food_type                 0\n",
       "Minimum_nights            0\n",
       "Reviews                   0\n",
       "Reviews_per_month         0\n",
       "Review_rate_number        0\n",
       "House_rules               0\n",
       "Host_Revenue              0\n",
       "Platform_Revenue          0\n",
       "Total_Revenue             0\n",
       "Year                      0\n",
       "dtype: int64"
      ]
     },
     "execution_count": 7,
     "metadata": {},
     "output_type": "execute_result"
    }
   ],
   "source": [
    "data.isnull().sum()"
   ]
  },
  {
   "cell_type": "markdown",
   "id": "03add9fb",
   "metadata": {},
   "source": [
    "###  Exploratory Analysis"
   ]
  },
  {
   "cell_type": "code",
   "execution_count": 8,
   "id": "047ad32a",
   "metadata": {},
   "outputs": [
    {
     "name": "stdout",
     "output_type": "stream",
     "text": [
      "The dataset has 488 Rows and 36 Columns\n"
     ]
    }
   ],
   "source": [
    "#general information\n",
    "#1. what is the total number of entries in the dataset\n",
    "data.shape\n",
    "\n",
    "print(\"The dataset has \" + str(data.shape[0]) + \" Rows and \" + str(data.shape[1]) + \" Columns\")"
   ]
  },
  {
   "cell_type": "code",
   "execution_count": 9,
   "id": "6d347a37",
   "metadata": {},
   "outputs": [
    {
     "name": "stdout",
     "output_type": "stream",
     "text": [
      "The dataset was taken from 01-01-2013 to 31-12-2013\n"
     ]
    }
   ],
   "source": [
    "#2. Find the time ranges when the dataset readings were taken\n",
    "mindate = data[\"Accommodation_year\"].min()\n",
    "maxdate = data[\"Accommodation_year\"].max()\n",
    "\n",
    "print(\"The dataset was taken from \" + str(mindate) + \" to \" + str(maxdate))"
   ]
  },
  {
   "cell_type": "code",
   "execution_count": 10,
   "id": "e7302160",
   "metadata": {},
   "outputs": [
    {
     "data": {
      "text/plain": [
       "array(['Marianne', 'Jennifer', 'Yukako', 'Kazuya', 'Wright', 'Crystal',\n",
       "       'Rogers', 'Ferguson', 'Fedrick', 'Thomas', 'Owens', 'Robinson',\n",
       "       'Joyce', 'Marc', 'Nekhena', 'Karen Jennifer & Jan', 'Madaline',\n",
       "       'Victoria', 'Zel', 'Elizabeth', 'Adams', 'Layla', 'Jenna',\n",
       "       'Kafayat', 'Walter', 'Haley', 'Tucker', 'Maria', 'Carl', 'Pirin',\n",
       "       'Mark', 'Johnson', 'Zach', 'Lloyd', 'Mitchell', 'Martin',\n",
       "       'Spencer', 'Camilla', 'Jimmy', 'Goenuel', 'Jay', 'Andrew',\n",
       "       'Murphy', 'Shepard', 'Dany', 'Carroll', 'Alex', 'Cavil', 'Sara',\n",
       "       \"Georgette'S\", 'Freddy', 'Jessica', 'Miller', 'Wells', 'Danielle',\n",
       "       'Matilda', 'Vanessa', 'Clara', 'Andrews', 'Yao & Rain', 'Mariia',\n",
       "       'Suzanne', 'Stewart', 'Grant', 'Studioplus', 'Diana And Peter',\n",
       "       'David', 'Reed', 'Jsun', 'Diego', 'Sam', 'Montgomery', 'Hunt',\n",
       "       'Perkins', 'Wilson', 'Stephanie', 'Jones', 'Hill', 'Baptiste',\n",
       "       'Sawyer', 'Liza', 'Brad', 'Kevin', 'Serge', 'Alina', 'Lyndon',\n",
       "       'Carlos', 'Armstrong', 'Luisa', 'Emma', 'Cameron', 'Bill',\n",
       "       'Harris', 'Laura', 'Robert', 'Mila', 'Rachel', 'Sarah', 'Gianna',\n",
       "       'Gibson', 'Tyler', 'Maira', 'James', 'Payne', 'Alan', 'Albert',\n",
       "       'Norman', 'Anthony', 'Joe', 'Michelle', 'Marcus', 'Muneeba',\n",
       "       'Hawkins', 'Ralph', 'Adele', 'Seth', 'Davis', 'Lionel', 'Henry',\n",
       "       'Ross', 'Cole', 'John', 'Edward', 'Anna', 'Bruce', 'Holmes',\n",
       "       'Daniel', 'Adrian', 'Terrance', 'Shu', 'Jim', 'Phillips',\n",
       "       'Allan C.', 'Joris', 'Laetitia', 'Nikita'], dtype=object)"
      ]
     },
     "execution_count": 10,
     "metadata": {},
     "output_type": "execute_result"
    }
   ],
   "source": [
    "#3. How many unique hosts are there\n",
    "data[\"Host_name\"].unique()"
   ]
  },
  {
   "cell_type": "code",
   "execution_count": 11,
   "id": "e8008420",
   "metadata": {},
   "outputs": [
    {
     "data": {
      "text/plain": [
       "<bound method Series.unique of 0          Kansas\n",
       "1          Greece\n",
       "2       Melbourne\n",
       "3        Colorado\n",
       "4          London\n",
       "          ...    \n",
       "495        Poland\n",
       "496    MexicoCity\n",
       "497     Melbourne\n",
       "498         Spain\n",
       "499       Alabama\n",
       "Name: State, Length: 488, dtype: object>"
      ]
     },
     "execution_count": 11,
     "metadata": {},
     "output_type": "execute_result"
    }
   ],
   "source": [
    "#4. How many different states are represented in the dataset\n",
    "data['State'].unique"
   ]
  },
  {
   "cell_type": "code",
   "execution_count": 12,
   "id": "2e29a89e",
   "metadata": {},
   "outputs": [
    {
     "data": {
      "text/plain": [
       "confirmed        257\n",
       "not confirmed    231\n",
       "Name: Host_identity_verified, dtype: int64"
      ]
     },
     "execution_count": 12,
     "metadata": {},
     "output_type": "execute_result"
    }
   ],
   "source": [
    "#5. Host related analysis\n",
    "#1. what is the distibution of host identity verification status\n",
    "\n",
    "data[\"Host_identity_verified\"].value_counts()"
   ]
  },
  {
   "cell_type": "code",
   "execution_count": 13,
   "id": "d21cfdf8",
   "metadata": {},
   "outputs": [
    {
     "data": {
      "image/png": "[encoded data removed]",
      "text/plain": [
       "<Figure size 576x576 with 1 Axes>"
      ]
     },
     "metadata": {},
     "output_type": "display_data"
    }
   ],
   "source": [
    "# Step 3: Calculate value counts\n",
    "value_counts = data[\"Host_identity_verified\"].value_counts()\n",
    "\n",
    "# Step 4: Create pie chart\n",
    "plt.figure(figsize=(8, 8))  # Optional: adjust the figure size\n",
    "plt.pie(value_counts, labels=value_counts.index, autopct='%1.1f%%', startangle=140)\n",
    "plt.title('Host Identity Verified')\n",
    "plt.show()\n",
    "\n"
   ]
  },
  {
   "cell_type": "code",
   "execution_count": 14,
   "id": "24cd2426",
   "metadata": {},
   "outputs": [
    {
     "data": {
      "text/plain": [
       "Neighbourhood\n",
       "Capucins in France                   48\n",
       "Constitución in Argentina            42\n",
       "District VII in  Hungary             37\n",
       "Hammerbrook in Germany               29\n",
       "Meireles in Brazil                   55\n",
       "Oak Lawn in  Texas                   51\n",
       "Poncey-Highland in  Georgia          37\n",
       "Richmond in Melbourne                44\n",
       "Roma Sur in MexicoCity               48\n",
       "The Bukit Peninsula in  Indonesia    43\n",
       "Triana in Spain                      54\n",
       "Name: Host_name, dtype: int64"
      ]
     },
     "execution_count": 14,
     "metadata": {},
     "output_type": "execute_result"
    }
   ],
   "source": [
    "#2. Which neighbourhood has highest number of host\n",
    "data.groupby(\"Neighbourhood\")[\"Host_name\"].count()"
   ]
  },
  {
   "cell_type": "code",
   "execution_count": 15,
   "id": "fa6b89b4",
   "metadata": {},
   "outputs": [
    {
     "data": {
      "image/png": "[encoded data removed]",
      "text/plain": [
       "<Figure size 864x576 with 1 Axes>"
      ]
     },
     "metadata": {
      "needs_background": "light"
     },
     "output_type": "display_data"
    }
   ],
   "source": [
    "host_counts = data.groupby(\"Neighbourhood\")[\"Host_name\"].count().reset_index()\n",
    "\n",
    "# Step 1: Create the bar plot using seaborn\n",
    "plt.figure(figsize=(12, 8))  # Optional: adjust the figure size\n",
    "barplot = sns.barplot(x='Neighbourhood', y='Host_name', data=host_counts)\n",
    "\n",
    "# Adding labels on top of the bars\n",
    "for index, row in host_counts.iterrows():\n",
    "    barplot.text(index, row.Host_name, round(row.Host_name, 2), color='black', ha=\"center\")\n",
    "\n",
    "plt.xlabel('Neighbourhood')\n",
    "plt.ylabel('Number of Hosts')\n",
    "plt.title('Number of Hosts per Neighbourhood')\n",
    "plt.xticks(rotation=45, ha='right')  # Rotate x labels for better readability\n",
    "plt.tight_layout()  # Adjust layout to make room for labels\n",
    "\n",
    "plt.show()"
   ]
  },
  {
   "cell_type": "code",
   "execution_count": 16,
   "id": "ea02dc69",
   "metadata": {},
   "outputs": [
    {
     "data": {
      "text/plain": [
       "No     253\n",
       "Yes    235\n",
       "Name: Instant_bookable, dtype: int64"
      ]
     },
     "execution_count": 16,
     "metadata": {},
     "output_type": "execute_result"
    }
   ],
   "source": [
    "#3. Are there host who frequently offer instant booking\n",
    "\n",
    "data[\"Instant_bookable\"].value_counts()"
   ]
  },
  {
   "cell_type": "code",
   "execution_count": 17,
   "id": "5a01bd4f",
   "metadata": {},
   "outputs": [
    {
     "data": {
      "image/png": "[encoded data removed]",
      "text/plain": [
       "<Figure size 360x360 with 1 Axes>"
      ]
     },
     "metadata": {},
     "output_type": "display_data"
    }
   ],
   "source": [
    "value_counts = data[\"Instant_bookable\"].value_counts()\n",
    "\n",
    "# Step: Create donut chart\n",
    "plt.figure(figsize=(5, 5))  # Optional: adjust the figure size\n",
    "plt.pie(value_counts, labels=value_counts.index, autopct='%1.1f%%', startangle=140, wedgeprops={'width': 0.3})\n",
    "\n",
    "# Adding a circle in the center to make it a donut chart\n",
    "centre_circle = plt.Circle((0, 0), 0.70, fc='white')\n",
    "fig = plt.gcf()\n",
    "fig.gca().add_artist(centre_circle)\n",
    "\n",
    "plt.title('Instant Bookable Distribution')\n",
    "plt.show()"
   ]
  },
  {
   "cell_type": "code",
   "execution_count": 18,
   "id": "e634755e",
   "metadata": {},
   "outputs": [
    {
     "data": {
      "text/plain": [
       "Moderate    170\n",
       "Flexible    159\n",
       "Strict      159\n",
       "Name: Cancellation_Policy, dtype: int64"
      ]
     },
     "execution_count": 18,
     "metadata": {},
     "output_type": "execute_result"
    }
   ],
   "source": [
    "#4. What is the most common cancellation policy among hosts\n",
    "\n",
    "data[\"Cancellation_Policy\"].value_counts()"
   ]
  },
  {
   "cell_type": "code",
   "execution_count": 19,
   "id": "22b789e3",
   "metadata": {},
   "outputs": [
    {
     "data": {
      "image/png": "[encoded data removed]",
      "text/plain": [
       "<Figure size 360x360 with 1 Axes>"
      ]
     },
     "metadata": {},
     "output_type": "display_data"
    }
   ],
   "source": [
    "value_counts = data[\"Cancellation_Policy\"].value_counts()\n",
    "\n",
    "# Step: Create donut chart\n",
    "plt.figure(figsize=(5, 5))  # Optional: adjust the figure size\n",
    "plt.pie(value_counts, labels=value_counts.index, autopct='%1.1f%%', startangle=140, wedgeprops={'width': 0.3})\n",
    "\n",
    "# Adding a circle in the center to make it a donut chart\n",
    "centre_circle = plt.Circle((0, 0), 0.70, fc='white')\n",
    "fig = plt.gcf()\n",
    "fig.gca().add_artist(centre_circle)\n",
    "\n",
    "plt.title('Cancellation_Policy Distribution')\n",
    "plt.show()"
   ]
  },
  {
   "cell_type": "code",
   "execution_count": 20,
   "id": "6943ed66",
   "metadata": {},
   "outputs": [
    {
     "data": {
      "text/plain": [
       "Apartment       130\n",
       "Private room    128\n",
       "Shared room     120\n",
       "Entire house    110\n",
       "Name: Building_type, dtype: int64"
      ]
     },
     "execution_count": 20,
     "metadata": {},
     "output_type": "execute_result"
    }
   ],
   "source": [
    "#6. Acommodation related analysis\n",
    "#1. What are the different types of room listing(building type) available\n",
    "data[\"Building_type\"].value_counts()"
   ]
  },
  {
   "cell_type": "code",
   "execution_count": 36,
   "id": "3e3b100f",
   "metadata": {},
   "outputs": [
    {
     "data": {
      "image/png": "[encoded data removed]",
      "text/plain": [
       "<Figure size 576x288 with 1 Axes>"
      ]
     },
     "metadata": {
      "needs_background": "light"
     },
     "output_type": "display_data"
    }
   ],
   "source": [
    "# Step: Calculate value counts\n",
    "building_type_counts = data[\"Building_type\"].value_counts().reset_index()\n",
    "building_type_counts.columns = ['Building_type', 'Count']  # Rename columns for clarity\n",
    "\n",
    "# Step: Create the bar chart using seaborn\n",
    "plt.figure(figsize=(8, 4))  # Optional: adjust the figure size\n",
    "barplot = sns.barplot(x='Building_type', y='Count', data=building_type_counts)\n",
    "\n",
    "# Adding labels on top of the bars\n",
    "for index, row in building_type_counts.iterrows():\n",
    "    barplot.text(index, row.Count, row.Count, color='black', ha=\"center\")\n",
    "\n",
    "plt.xlabel('Building Type')\n",
    "plt.ylabel('Count')\n",
    "plt.title('Count of Different Building Types')\n",
    "plt.xticks(rotation=45, ha='right')  # Rotate x labels for better readability\n",
    "plt.tight_layout()  # Adjust layout to make room for labels\n",
    "\n",
    "plt.show()"
   ]
  },
  {
   "cell_type": "code",
   "execution_count": 22,
   "id": "278a1d4a",
   "metadata": {},
   "outputs": [
    {
     "data": {
      "text/plain": [
       "Condominium        71\n",
       "Unconventional     67\n",
       "Villa              66\n",
       "House              60\n",
       "Bed & Breakfast    57\n",
       "Cabin              56\n",
       "Townhouse          56\n",
       "Loft               55\n",
       "Name: Property_type, dtype: int64"
      ]
     },
     "execution_count": 22,
     "metadata": {},
     "output_type": "execute_result"
    }
   ],
   "source": [
    "#2. What are the different types of property type available\n",
    "data[\"Property_type\"].value_counts()"
   ]
  },
  {
   "cell_type": "code",
   "execution_count": 34,
   "id": "df851795",
   "metadata": {},
   "outputs": [
    {
     "data": {
      "image/png": "[encoded data removed]",
      "text/plain": [
       "<Figure size 864x360 with 1 Axes>"
      ]
     },
     "metadata": {
      "needs_background": "light"
     },
     "output_type": "display_data"
    }
   ],
   "source": [
    "# Step: Calculate value counts\n",
    "building_type_counts = data[\"Property_type\"].value_counts().reset_index()\n",
    "building_type_counts.columns = ['Property_type', 'Count']  # Rename columns for clarity\n",
    "\n",
    "# Step: Create the bar chart using seaborn\n",
    "plt.figure(figsize=(12, 5))  # Optional: adjust the figure size\n",
    "barplot = sns.barplot(x='Property_type', y='Count', data=building_type_counts)\n",
    "\n",
    "# Adding labels on top of the bars\n",
    "for index, row in building_type_counts.iterrows():\n",
    "    barplot.text(index, row.Count, row.Count, color='black', ha=\"center\")\n",
    "\n",
    "plt.xlabel('Property Type')\n",
    "plt.ylabel('Count')\n",
    "plt.title('Count of Different Property Types')\n",
    "plt.xticks(rotation=45, ha='right')  # Rotate x labels for better readability\n",
    "plt.tight_layout()  # Adjust layout to make room for labels\n",
    "\n",
    "plt.show()"
   ]
  },
  {
   "cell_type": "code",
   "execution_count": 24,
   "id": "0fa5aa65",
   "metadata": {},
   "outputs": [
    {
     "data": {
      "text/plain": [
       "Neighbourhood\n",
       "Capucins in France                   0.16\n",
       "Constitución in Argentina            0.16\n",
       "District VII in  Hungary             0.15\n",
       "Hammerbrook in Germany               0.16\n",
       "Meireles in Brazil                   0.16\n",
       "Oak Lawn in  Texas                   0.16\n",
       "Poncey-Highland in  Georgia          0.16\n",
       "Richmond in Melbourne                0.16\n",
       "Roma Sur in MexicoCity               0.16\n",
       "The Bukit Peninsula in  Indonesia    0.16\n",
       "Triana in Spain                      0.16\n",
       "Name: Host_fee, dtype: float64"
      ]
     },
     "execution_count": 24,
     "metadata": {},
     "output_type": "execute_result"
    }
   ],
   "source": [
    "#3. are there accommadations with significantly higher fees\n",
    "data.groupby(\"Neighbourhood\")[\"Host_fee\"].max()"
   ]
  },
  {
   "cell_type": "code",
   "execution_count": 25,
   "id": "3d3ca3af",
   "metadata": {},
   "outputs": [
    {
     "data": {
      "text/plain": [
       "Building_type\n",
       "Apartment       130\n",
       "Entire house    110\n",
       "Private room    128\n",
       "Shared room     120\n",
       "Name: House_rules, dtype: int64"
      ]
     },
     "execution_count": 25,
     "metadata": {},
     "output_type": "execute_result"
    }
   ],
   "source": [
    "#7. Regulation and compliances\n",
    "# How many listings have specified house rules\n",
    "data.groupby(\"Building_type\")[\"House_rules\"].count()"
   ]
  },
  {
   "cell_type": "code",
   "execution_count": 33,
   "id": "2bbb4e18",
   "metadata": {},
   "outputs": [
    {
     "data": {
      "image/png": "[encoded data removed]",
      "text/plain": [
       "<Figure size 576x360 with 1 Axes>"
      ]
     },
     "metadata": {
      "needs_background": "light"
     },
     "output_type": "display_data"
    }
   ],
   "source": [
    "# Step : Group by \"Building_type\" and count the \"House_rules\"\n",
    "house_rules_counts = data.groupby(\"Building_type\")[\"House_rules\"].count().reset_index()\n",
    "house_rules_counts.columns = ['Building_type', 'Count']  # Rename columns for clarity\n",
    "\n",
    "# Step : Create the bar plot using seaborn with a different color palette\n",
    "plt.figure(figsize=(8, 5))  # Optional: adjust the figure size\n",
    "barplot = sns.barplot(x='Building_type', y='Count', data=house_rules_counts, palette=\"cubehelix\")\n",
    "\n",
    "# Adding labels on top of the bars\n",
    "for index, row in house_rules_counts.iterrows():\n",
    "    barplot.text(index, row.Count, row.Count, color='black', ha=\"center\")\n",
    "\n",
    "plt.xlabel('Building Type')\n",
    "plt.ylabel('Count of House Rules')\n",
    "plt.title('Count of House Rules by Building Type')\n",
    "plt.xticks(rotation=45, ha='right')  # Rotate x labels for better readability\n",
    "plt.tight_layout()  # Adjust layout to make room for labels\n",
    "\n",
    "plt.show()"
   ]
  },
  {
   "cell_type": "code",
   "execution_count": 40,
   "id": "9849dd16",
   "metadata": {},
   "outputs": [
    {
     "data": {
      "text/plain": [
       "Building_type\n",
       "Apartment       80.587855\n",
       "Entire house    80.728125\n",
       "Private room    78.403644\n",
       "Shared room     82.882413\n",
       "Name: Total_Revenue, dtype: float64"
      ]
     },
     "execution_count": 40,
     "metadata": {},
     "output_type": "execute_result"
    }
   ],
   "source": [
    "#8. Price Analysis\n",
    "#1. what is the distribution of prices for different room types\n",
    "data.groupby(\"Building_type\")[\"Total_Revenue\"].mean()"
   ]
  },
  {
   "cell_type": "code",
   "execution_count": 44,
   "id": "b91b611c",
   "metadata": {},
   "outputs": [
    {
     "data": {
      "image/png": "[encoded data removed]",
      "text/plain": [
       "<Figure size 576x360 with 1 Axes>"
      ]
     },
     "metadata": {
      "needs_background": "light"
     },
     "output_type": "display_data"
    }
   ],
   "source": [
    "# Step : Group by \"Building_type\" and calculate mean \"Total_Revenue\"\n",
    "mean_revenue = data.groupby(\"Building_type\")[\"Total_Revenue\"].mean().reset_index()\n",
    "\n",
    "# Step : Create the bar plot using seaborn with a different color palette\n",
    "plt.figure(figsize=(8, 5))  # Optional: adjust the figure size\n",
    "barplot = sns.barplot(x='Building_type', y='Total_Revenue', data=mean_revenue, palette='viridis')\n",
    "\n",
    "# Adding labels on top of the bars\n",
    "for index, row in mean_revenue.iterrows():\n",
    "    barplot.text(index, row.Total_Revenue, round(row.Total_Revenue, 2), color='black', ha=\"center\")\n",
    "\n",
    "plt.xlabel('Building Type')\n",
    "plt.ylabel('Mean Total Revenue')\n",
    "plt.title('Mean Total Revenue by Building Type')\n",
    "plt.xticks(rotation=45, ha='right')  # Rotate x labels for better readability\n",
    "plt.tight_layout()  # Adjust layout to make room for labels\n",
    "\n",
    "plt.show()"
   ]
  },
  {
   "cell_type": "code",
   "execution_count": 46,
   "id": "b4cabdfc",
   "metadata": {},
   "outputs": [
    {
     "data": {
      "text/plain": [
       "Year\n",
       "2009    2446.3437\n",
       "2010    2321.5834\n",
       "2011    3654.0600\n",
       "2012    2905.5819\n",
       "2013    2920.1765\n",
       "2014    2650.7474\n",
       "2015    2356.8724\n",
       "2016    2010.3390\n",
       "2017    1899.9281\n",
       "2018    2058.7255\n",
       "2019    2431.2800\n",
       "2020    2761.2276\n",
       "2021    3274.2148\n",
       "2022    2555.7760\n",
       "2023    3091.2145\n",
       "Name: Total_Revenue, dtype: float64"
      ]
     },
     "execution_count": 46,
     "metadata": {},
     "output_type": "execute_result"
    }
   ],
   "source": [
    "#2. What is YOY analysis on total revnue\n",
    "data.groupby(\"Year\")[\"Total_Revenue\"].sum()"
   ]
  },
  {
   "cell_type": "code",
   "execution_count": 49,
   "id": "57e38241",
   "metadata": {},
   "outputs": [
    {
     "data": {
      "image/png": "[encoded data removed]",
      "text/plain": [
       "<Figure size 576x288 with 1 Axes>"
      ]
     },
     "metadata": {
      "needs_background": "light"
     },
     "output_type": "display_data"
    }
   ],
   "source": [
    "# Step : Group by \"Year\" and sum \"Total_Revenue\"\n",
    "yearly_revenue = data.groupby(\"Year\")[\"Total_Revenue\"].sum().reset_index()\n",
    "\n",
    "# Step : Create the line graph using seaborn\n",
    "plt.figure(figsize=(8, 4))  # Optional: adjust the figure size\n",
    "sns.set_palette(\"viridis\")  # Using the 'viridis' color palette\n",
    "\n",
    "lineplot = sns.lineplot(x='Year', y='Total_Revenue', data=yearly_revenue, marker='o')\n",
    "\n",
    "plt.xlabel('Year')\n",
    "plt.ylabel('Total Revenue')\n",
    "plt.title('Total Revenue by Year')\n",
    "plt.grid(True)  # Optional: add a grid for better readability\n",
    "plt.tight_layout()  # Adjust layout to make room for labels\n",
    "\n",
    "plt.show()"
   ]
  },
  {
   "cell_type": "code",
   "execution_count": 59,
   "id": "5fbbbdd7",
   "metadata": {},
   "outputs": [
    {
     "data": {
      "text/html": [
       "<div>\n",
       "<style scoped>\n",
       "    .dataframe tbody tr th:only-of-type {\n",
       "        vertical-align: middle;\n",
       "    }\n",
       "\n",
       "    .dataframe tbody tr th {\n",
       "        vertical-align: top;\n",
       "    }\n",
       "\n",
       "    .dataframe thead th {\n",
       "        text-align: right;\n",
       "    }\n",
       "</style>\n",
       "<table border=\"1\" class=\"dataframe\">\n",
       "  <thead>\n",
       "    <tr style=\"text-align: right;\">\n",
       "      <th></th>\n",
       "      <th></th>\n",
       "      <th></th>\n",
       "      <th>Instant_bookable</th>\n",
       "    </tr>\n",
       "    <tr>\n",
       "      <th>Neighbourhood</th>\n",
       "      <th>Building_type</th>\n",
       "      <th>Instant_bookable</th>\n",
       "      <th></th>\n",
       "    </tr>\n",
       "  </thead>\n",
       "  <tbody>\n",
       "    <tr>\n",
       "      <th rowspan=\"5\" valign=\"top\">Capucins in France</th>\n",
       "      <th rowspan=\"2\" valign=\"top\">Apartment</th>\n",
       "      <th>No</th>\n",
       "      <td>10</td>\n",
       "    </tr>\n",
       "    <tr>\n",
       "      <th>Yes</th>\n",
       "      <td>3</td>\n",
       "    </tr>\n",
       "    <tr>\n",
       "      <th rowspan=\"2\" valign=\"top\">Entire house</th>\n",
       "      <th>No</th>\n",
       "      <td>10</td>\n",
       "    </tr>\n",
       "    <tr>\n",
       "      <th>Yes</th>\n",
       "      <td>3</td>\n",
       "    </tr>\n",
       "    <tr>\n",
       "      <th>Private room</th>\n",
       "      <th>No</th>\n",
       "      <td>8</td>\n",
       "    </tr>\n",
       "    <tr>\n",
       "      <th>...</th>\n",
       "      <th>...</th>\n",
       "      <th>...</th>\n",
       "      <td>...</td>\n",
       "    </tr>\n",
       "    <tr>\n",
       "      <th rowspan=\"5\" valign=\"top\">Triana in Spain</th>\n",
       "      <th>Entire house</th>\n",
       "      <th>Yes</th>\n",
       "      <td>4</td>\n",
       "    </tr>\n",
       "    <tr>\n",
       "      <th rowspan=\"2\" valign=\"top\">Private room</th>\n",
       "      <th>Yes</th>\n",
       "      <td>11</td>\n",
       "    </tr>\n",
       "    <tr>\n",
       "      <th>No</th>\n",
       "      <td>4</td>\n",
       "    </tr>\n",
       "    <tr>\n",
       "      <th rowspan=\"2\" valign=\"top\">Shared room</th>\n",
       "      <th>Yes</th>\n",
       "      <td>9</td>\n",
       "    </tr>\n",
       "    <tr>\n",
       "      <th>No</th>\n",
       "      <td>4</td>\n",
       "    </tr>\n",
       "  </tbody>\n",
       "</table>\n",
       "<p>88 rows × 1 columns</p>\n",
       "</div>"
      ],
      "text/plain": [
       "                                                   Instant_bookable\n",
       "Neighbourhood      Building_type Instant_bookable                  \n",
       "Capucins in France Apartment     No                              10\n",
       "                                 Yes                              3\n",
       "                   Entire house  No                              10\n",
       "                                 Yes                              3\n",
       "                   Private room  No                               8\n",
       "...                                                             ...\n",
       "Triana in Spain    Entire house  Yes                              4\n",
       "                   Private room  Yes                             11\n",
       "                                 No                               4\n",
       "                   Shared room   Yes                              9\n",
       "                                 No                               4\n",
       "\n",
       "[88 rows x 1 columns]"
      ]
     },
     "execution_count": 59,
     "metadata": {},
     "output_type": "execute_result"
    }
   ],
   "source": [
    "#9. geographical analysis\n",
    "#1. do accomodations in certain neighbourhood tend to have more instant bookables\n",
    "instant = data.groupby([\"Neighbourhood\",\"Building_type\"])[\"Instant_bookable\"].value_counts()\n",
    "instantdf=pd.DataFrame(instant)\n",
    "instantdf"
   ]
  },
  {
   "cell_type": "code",
   "execution_count": 60,
   "id": "71d45e7b",
   "metadata": {},
   "outputs": [
    {
     "data": {
      "text/plain": [
       "Year  Building_type\n",
       "2009  Apartment         9\n",
       "      Entire house      8\n",
       "      Private room      8\n",
       "      Shared room       5\n",
       "2010  Entire house      9\n",
       "      Apartment         8\n",
       "      Private room      6\n",
       "      Shared room       5\n",
       "2011  Private room     16\n",
       "      Apartment        13\n",
       "      Shared room      11\n",
       "      Entire house      3\n",
       "2012  Private room     12\n",
       "      Apartment         8\n",
       "      Entire house      7\n",
       "      Shared room       6\n",
       "2013  Shared room      16\n",
       "      Apartment        10\n",
       "      Private room      7\n",
       "      Entire house      5\n",
       "2014  Entire house     12\n",
       "      Private room      8\n",
       "      Shared room       8\n",
       "      Apartment         7\n",
       "2015  Apartment        10\n",
       "      Shared room      10\n",
       "      Private room      7\n",
       "      Entire house      4\n",
       "2016  Apartment         8\n",
       "      Entire house      8\n",
       "      Private room      5\n",
       "      Shared room       4\n",
       "2017  Apartment         9\n",
       "      Private room      6\n",
       "      Shared room       6\n",
       "      Entire house      4\n",
       "2018  Private room      8\n",
       "      Entire house      7\n",
       "      Apartment         5\n",
       "      Shared room       5\n",
       "2019  Entire house      9\n",
       "      Apartment         7\n",
       "      Shared room       7\n",
       "      Private room      6\n",
       "2020  Apartment         9\n",
       "      Entire house      9\n",
       "      Private room      9\n",
       "      Shared room       8\n",
       "2021  Shared room      13\n",
       "      Apartment         9\n",
       "      Entire house      9\n",
       "      Private room      9\n",
       "2022  Private room     11\n",
       "      Apartment        10\n",
       "      Shared room       8\n",
       "      Entire house      4\n",
       "2023  Entire house     12\n",
       "      Private room     10\n",
       "      Apartment         8\n",
       "      Shared room       8\n",
       "Name: Building_type, dtype: int64"
      ]
     },
     "execution_count": 60,
     "metadata": {},
     "output_type": "execute_result"
    }
   ],
   "source": [
    "#2. has there been an increase in the count of accomadations over the years\n",
    "data.groupby(\"Year\")[\"Building_type\"].value_counts()"
   ]
  },
  {
   "cell_type": "code",
   "execution_count": 63,
   "id": "1e7fde9e",
   "metadata": {},
   "outputs": [
    {
     "data": {
      "image/png": "[encoded data removed]",
      "text/plain": [
       "<Figure size 1008x432 with 1 Axes>"
      ]
     },
     "metadata": {
      "needs_background": "light"
     },
     "output_type": "display_data"
    }
   ],
   "source": [
    "# Step 2: Group by \"Year\" and \"Building_type\" and count the occurrences\n",
    "grouped_data = data.groupby([\"Year\", \"Building_type\"]).size().reset_index(name='Count')\n",
    "\n",
    "# Step 3: Create the bar graph using seaborn\n",
    "plt.figure(figsize=(14, 6))  # Optional: adjust the figure size\n",
    "barplot = sns.barplot(x='Year', y='Count', hue='Building_type', data=grouped_data, palette='Paired')\n",
    "\n",
    "plt.xlabel('Year')\n",
    "plt.ylabel('Count')\n",
    "plt.title('Count of Different Building Types by Year')\n",
    "plt.legend(title='Building Type')\n",
    "plt.xticks(rotation=45, ha='right')  # Rotate x labels for better readability\n",
    "plt.tight_layout()  # Adjust layout to make room for labels\n",
    "\n",
    "plt.show()"
   ]
  },
  {
   "cell_type": "code",
   "execution_count": 65,
   "id": "56c06176",
   "metadata": {},
   "outputs": [
    {
     "data": {
      "text/plain": [
       "Neighbourhood                      Cancellation_Policy\n",
       "Capucins in France                 Strict                 17\n",
       "                                   Moderate               16\n",
       "                                   Flexible               15\n",
       "Constitución in Argentina          Moderate               17\n",
       "                                   Flexible               14\n",
       "                                   Strict                 11\n",
       "District VII in  Hungary           Strict                 13\n",
       "                                   Flexible               12\n",
       "                                   Moderate               12\n",
       "Hammerbrook in Germany             Moderate               12\n",
       "                                   Strict                  9\n",
       "                                   Flexible                8\n",
       "Meireles in Brazil                 Strict                 23\n",
       "                                   Flexible               19\n",
       "                                   Moderate               13\n",
       "Oak Lawn in  Texas                 Moderate               23\n",
       "                                   Flexible               15\n",
       "                                   Strict                 13\n",
       "Poncey-Highland in  Georgia        Moderate               14\n",
       "                                   Flexible               12\n",
       "                                   Strict                 11\n",
       "Richmond in Melbourne              Moderate               16\n",
       "                                   Flexible               14\n",
       "                                   Strict                 14\n",
       "Roma Sur in MexicoCity             Flexible               20\n",
       "                                   Strict                 17\n",
       "                                   Moderate               11\n",
       "The Bukit Peninsula in  Indonesia  Moderate               15\n",
       "                                   Flexible               14\n",
       "                                   Strict                 14\n",
       "Triana in Spain                    Moderate               21\n",
       "                                   Strict                 17\n",
       "                                   Flexible               16\n",
       "Name: Cancellation_Policy, dtype: int64"
      ]
     },
     "execution_count": 65,
     "metadata": {},
     "output_type": "execute_result"
    }
   ],
   "source": [
    "#among the neighbourhood find the count of type of cancellation policy \n",
    "data.groupby(\"Neighbourhood\")[\"Cancellation_Policy\"].value_counts()"
   ]
  },
  {
   "cell_type": "code",
   "execution_count": null,
   "id": "2446eaa3",
   "metadata": {},
   "outputs": [],
   "source": []
  }
 ],
 "metadata": {
  "kernelspec": {
   "display_name": "Python 3 (ipykernel)",
   "language": "python",
   "name": "python3"
  },
  "language_info": {
   "codemirror_mode": {
    "name": "ipython",
    "version": 3
   },
   "file_extension": ".py",
   "mimetype": "text/x-python",
   "name": "python",
   "nbconvert_exporter": "python",
   "pygments_lexer": "ipython3",
   "version": "3.9.7"
  }
 },
 "nbformat": 4,
 "nbformat_minor": 5
}
